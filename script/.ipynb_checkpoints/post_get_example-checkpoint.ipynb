{
 "cells": [
  {
   "cell_type": "code",
   "execution_count": 1,
   "metadata": {},
   "outputs": [
    {
     "name": "stdout",
     "output_type": "stream",
     "text": [
      "\n",
      "Login data: {'id': 4, 'username': 'Blue', 'fullName': '?, ?, ?, ?', 'year': 2020, 'role': 'user', 'teamUUID': 'f32c6941-bc2d-41b2-8bb3-cb6082427613'}\n",
      "\n",
      "teamUUID: f32c6941-bc2d-41b2-8bb3-cb6082427613\n",
      "\n",
      "Sensors data: [{'id': 3, 'sensorUUID': 'd384a529-6227-4133-afc9-4f5a16665f1f', 'name': 'sensor3', 'location': 'Masarykovo namesti 1, Plzen', 'minTemperature': 0.0, 'maxTemperature': 25.0}]\n"
     ]
    }
   ],
   "source": [
    "import requests\n",
    "from json import dumps as dumps_json, loads as loads_json\n",
    "\n",
    "url_base = 'https://uvb1bb4153.execute-api.eu-central-1.amazonaws.com/Prod'\n",
    "headers_base = {'Content-Type': 'application/json'}\n",
    "\n",
    "# login\n",
    "url_login = url_base+'/login'\n",
    "body_login = {'username': 'Blue', 'password': 'n96{ZYV7'}\n",
    "\n",
    "login_data = loads_json(requests.post(url_login, data=dumps_json(body_login), headers=headers_base).text)\n",
    "print('\\nLogin data:', login_data)\n",
    "\n",
    "teamUUID = login_data['teamUUID']\n",
    "print('\\nteamUUID:', teamUUID)\n",
    "\n",
    "# get sensors\n",
    "url_sensors = url_base+'/sensors'\n",
    "headers_sensors = dict(headers_base)\n",
    "headers_sensors.update({'teamUUID': teamUUID})\n",
    "\n",
    "sensors_data = requests.get(url_sensors, headers=headers_sensors)\n",
    "print('\\nSensors data:', loads_json(sensors_data.text))"
   ]
  }
 ],
 "metadata": {
  "kernelspec": {
   "display_name": "ite-env",
   "language": "python",
   "name": "ite-env"
  },
  "language_info": {
   "codemirror_mode": {
    "name": "ipython",
    "version": 3
   },
   "file_extension": ".py",
   "mimetype": "text/x-python",
   "name": "python",
   "nbconvert_exporter": "python",
   "pygments_lexer": "ipython3",
   "version": "3.6.10"
  }
 },
 "nbformat": 4,
 "nbformat_minor": 4
}
