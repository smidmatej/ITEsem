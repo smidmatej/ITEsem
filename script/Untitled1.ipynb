{
 "cells": [
  {
   "cell_type": "code",
   "execution_count": 17,
   "metadata": {},
   "outputs": [
    {
     "ename": "AttributeError",
     "evalue": "module 'swagger_client' has no attribute 'AlertsApi'",
     "output_type": "error",
     "traceback": [
      "\u001b[0;31m---------------------------------------------------------------------------\u001b[0m",
      "\u001b[0;31mAttributeError\u001b[0m                            Traceback (most recent call last)",
      "\u001b[0;32m<ipython-input-17-838a31bf59d3>\u001b[0m in \u001b[0;36m<module>\u001b[0;34m\u001b[0m\n\u001b[1;32m      5\u001b[0m \u001b[0;34m\u001b[0m\u001b[0m\n\u001b[1;32m      6\u001b[0m \u001b[0;31m# create an instance of the API class\u001b[0m\u001b[0;34m\u001b[0m\u001b[0;34m\u001b[0m\u001b[0;34m\u001b[0m\u001b[0m\n\u001b[0;32m----> 7\u001b[0;31m \u001b[0mapi_instance\u001b[0m \u001b[0;34m=\u001b[0m \u001b[0mswagger_client\u001b[0m\u001b[0;34m.\u001b[0m\u001b[0mAlertsApi\u001b[0m\u001b[0;34m(\u001b[0m\u001b[0;34m)\u001b[0m\u001b[0;34m\u001b[0m\u001b[0;34m\u001b[0m\u001b[0m\n\u001b[0m\u001b[1;32m      8\u001b[0m \u001b[0mbody\u001b[0m \u001b[0;34m=\u001b[0m \u001b[0;34m{\u001b[0m\u001b[0;34m\"username\"\u001b[0m\u001b[0;34m:\u001b[0m \u001b[0;34m\"Blue\"\u001b[0m\u001b[0;34m,\u001b[0m\u001b[0;34m\"password\"\u001b[0m\u001b[0;34m:\u001b[0m \u001b[0;34m\"n96{ZYV7\"\u001b[0m\u001b[0;34m}\u001b[0m \u001b[0;31m# Alert | Alert body\u001b[0m\u001b[0;34m\u001b[0m\u001b[0;34m\u001b[0m\u001b[0m\n\u001b[1;32m      9\u001b[0m \u001b[0mteamUUID\u001b[0m \u001b[0;34m=\u001b[0m \u001b[0;34m'38400000-8cf0-11bd-b23e-10b96e4ef00d'\u001b[0m \u001b[0;31m# UUID | Authorize by the teamUUID of your team\u001b[0m\u001b[0;34m\u001b[0m\u001b[0;34m\u001b[0m\u001b[0m\n",
      "\u001b[0;31mAttributeError\u001b[0m: module 'swagger_client' has no attribute 'AlertsApi'"
     ]
    }
   ],
   "source": [
    "\n",
    "import time\n",
    "import swagger_client\n",
    "from swagger_client.rest import ApiException\n",
    "from pprint import pprint\n",
    "\n",
    "# create an instance of the API class\n",
    "api_instance = swagger_client.AlertsApi()\n",
    "body = {\"username\": \"Blue\",\"password\": \"n96{ZYV7\"} # Alert | Alert body\n",
    "teamUUID = '38400000-8cf0-11bd-b23e-10b96e4ef00d' # UUID | Authorize by the teamUUID of your team\n",
    "contentType = contentType_example # String | Specify the data Content-AuthenticationApiType\n",
    "\n",
    "try: \n",
    "    # Store an alert\n",
    "    api_instance.create_alert(body, teamUUID, contentType)\n",
    "except ApiException as e:\n",
    "    print(\"Exception when calling AlertsApi->createAlert: %s\\n\" % e)"
   ]
  },
  {
   "cell_type": "code",
   "execution_count": 18,
   "metadata": {},
   "outputs": [
    {
     "ename": "SyntaxError",
     "evalue": "invalid syntax (<ipython-input-18-a22408ad90cb>, line 1)",
     "output_type": "error",
     "traceback": [
      "\u001b[0;36m  File \u001b[0;32m\"<ipython-input-18-a22408ad90cb>\"\u001b[0;36m, line \u001b[0;32m1\u001b[0m\n\u001b[0;31m    import swagger-client\u001b[0m\n\u001b[0m                  ^\u001b[0m\n\u001b[0;31mSyntaxError\u001b[0m\u001b[0;31m:\u001b[0m invalid syntax\n"
     ]
    }
   ],
   "source": [
    "import swagger-client\n",
    "dir(swagger_client)"
   ]
  }
 ],
 "metadata": {
  "kernelspec": {
   "display_name": "ite-env",
   "language": "python",
   "name": "ite-env"
  },
  "language_info": {
   "codemirror_mode": {
    "name": "ipython",
    "version": 3
   },
   "file_extension": ".py",
   "mimetype": "text/x-python",
   "name": "python",
   "nbconvert_exporter": "python",
   "pygments_lexer": "ipython3",
   "version": "3.6.10"
  }
 },
 "nbformat": 4,
 "nbformat_minor": 4
}
