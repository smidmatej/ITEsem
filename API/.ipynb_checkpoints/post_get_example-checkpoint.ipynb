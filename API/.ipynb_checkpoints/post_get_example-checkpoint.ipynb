{
 "cells": [
  {
   "cell_type": "code",
   "execution_count": 1,
   "metadata": {},
   "outputs": [
    {
     "ename": "SyntaxError",
     "evalue": "invalid syntax (<ipython-input-1-9bc3f6b39df0>, line 14)",
     "output_type": "error",
     "traceback": [
      "\u001b[0;36m  File \u001b[0;32m\"<ipython-input-1-9bc3f6b39df0>\"\u001b[0;36m, line \u001b[0;32m14\u001b[0m\n\u001b[0;31m    teamUUID = login_data['teamUUID']\u001b[0m\n\u001b[0m           ^\u001b[0m\n\u001b[0;31mSyntaxError\u001b[0m\u001b[0;31m:\u001b[0m invalid syntax\n"
     ]
    }
   ],
   "source": [
    "import requests\n",
    "from json import dumps as dumps_json, loads as loads_json\n",
    "\n",
    "url_base = 'https://uvb1bb4153.execute-api.eu-central-1.amazonaws.com/Prod'\n",
    "headers_base = {'Content-Type': 'application/json'}\n",
    "\n",
    "# login\n",
    "url_login = url_base+'/login'\n",
    "body_login = {'username': 'Orange', 'password': 'k@9UsH7t'}\n",
    "\n",
    "login_data = loads_json(requests.post(url_login, data=dumps_json(body_login), headers=headers_base).text)\n",
    "print('\\nLogin data:', login_data)\n",
    "\n",
    "teamUUID = login_data['teamUUID']\n",
    "print('\\nteamUUID:', teamUUID)\n",
    "\n",
    "# get sensors\n",
    "url_sensors = url_base+'/sensors'\n",
    "headers_sensors = dict(headers_base)\n",
    "headers_sensors.update({'teamUUID': teamUUID})\n",
    "\n",
    "sensors_data = requests.get(url_sensors, headers=headers_sensors)\n",
    "print('\\nSensors data:', loads_json(sensors_data.text))"
   ]
  }
 ],
 "metadata": {
  "kernelspec": {
   "display_name": "ite-env",
   "language": "python",
   "name": "ite-env"
  },
  "language_info": {
   "codemirror_mode": {
    "name": "ipython",
    "version": 3
   },
   "file_extension": ".py",
   "mimetype": "text/x-python",
   "name": "python",
   "nbconvert_exporter": "python",
   "pygments_lexer": "ipython3",
   "version": "3.6.10"
  }
 },
 "nbformat": 4,
 "nbformat_minor": 4
}
