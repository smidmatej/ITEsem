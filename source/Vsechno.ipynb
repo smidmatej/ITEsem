{
 "cells": [
  {
   "cell_type": "code",
   "execution_count": 8,
   "metadata": {},
   "outputs": [
    {
     "name": "stdout",
     "output_type": "stream",
     "text": [
      "Connected with result code qos: 0\n",
      "ite/blue 0 b'{\"source\": \"fake\", \"team_name\": \"blue\", \"created_on\": \"2020-04-28T20:48:54.850744\", \"temperature\": 22.200536974016668}'\n"
     ]
    },
    {
     "ename": "KeyboardInterrupt",
     "evalue": "",
     "output_type": "error",
     "traceback": [
      "\u001b[0;31m---------------------------------------------------------------------------\u001b[0m",
      "\u001b[0;31mKeyboardInterrupt\u001b[0m                         Traceback (most recent call last)",
      "\u001b[0;32m<ipython-input-8-08aa2c13227a>\u001b[0m in \u001b[0;36m<module>\u001b[0;34m\u001b[0m\n\u001b[1;32m     41\u001b[0m \u001b[0;34m\u001b[0m\u001b[0m\n\u001b[1;32m     42\u001b[0m \u001b[0;32mif\u001b[0m \u001b[0m__name__\u001b[0m \u001b[0;34m==\u001b[0m \u001b[0;34m'__main__'\u001b[0m\u001b[0;34m:\u001b[0m\u001b[0;34m\u001b[0m\u001b[0;34m\u001b[0m\u001b[0m\n\u001b[0;32m---> 43\u001b[0;31m     \u001b[0mmain\u001b[0m\u001b[0;34m(\u001b[0m\u001b[0;34m)\u001b[0m\u001b[0;34m\u001b[0m\u001b[0;34m\u001b[0m\u001b[0m\n\u001b[0m",
      "\u001b[0;32m<ipython-input-8-08aa2c13227a>\u001b[0m in \u001b[0;36mmain\u001b[0;34m()\u001b[0m\n\u001b[1;32m     37\u001b[0m     \u001b[0;31m# Other loop*() functions are available that give a threaded interface and\u001b[0m\u001b[0;34m\u001b[0m\u001b[0;34m\u001b[0m\u001b[0;34m\u001b[0m\u001b[0m\n\u001b[1;32m     38\u001b[0m     \u001b[0;31m# a manual interface.\u001b[0m\u001b[0;34m\u001b[0m\u001b[0;34m\u001b[0m\u001b[0;34m\u001b[0m\u001b[0m\n\u001b[0;32m---> 39\u001b[0;31m     \u001b[0mclient\u001b[0m\u001b[0;34m.\u001b[0m\u001b[0mloop_forever\u001b[0m\u001b[0;34m(\u001b[0m\u001b[0;34m)\u001b[0m\u001b[0;34m\u001b[0m\u001b[0;34m\u001b[0m\u001b[0m\n\u001b[0m\u001b[1;32m     40\u001b[0m \u001b[0;34m\u001b[0m\u001b[0m\n\u001b[1;32m     41\u001b[0m \u001b[0;34m\u001b[0m\u001b[0m\n",
      "\u001b[0;32m~/miniconda3/envs/ite-env/lib/python3.6/site-packages/paho/mqtt/client.py\u001b[0m in \u001b[0;36mloop_forever\u001b[0;34m(self, timeout, max_packets, retry_first_connection)\u001b[0m\n\u001b[1;32m   1479\u001b[0m             \u001b[0mrc\u001b[0m \u001b[0;34m=\u001b[0m \u001b[0mMQTT_ERR_SUCCESS\u001b[0m\u001b[0;34m\u001b[0m\u001b[0;34m\u001b[0m\u001b[0m\n\u001b[1;32m   1480\u001b[0m             \u001b[0;32mwhile\u001b[0m \u001b[0mrc\u001b[0m \u001b[0;34m==\u001b[0m \u001b[0mMQTT_ERR_SUCCESS\u001b[0m\u001b[0;34m:\u001b[0m\u001b[0;34m\u001b[0m\u001b[0;34m\u001b[0m\u001b[0m\n\u001b[0;32m-> 1481\u001b[0;31m                 \u001b[0mrc\u001b[0m \u001b[0;34m=\u001b[0m \u001b[0mself\u001b[0m\u001b[0;34m.\u001b[0m\u001b[0mloop\u001b[0m\u001b[0;34m(\u001b[0m\u001b[0mtimeout\u001b[0m\u001b[0;34m,\u001b[0m \u001b[0mmax_packets\u001b[0m\u001b[0;34m)\u001b[0m\u001b[0;34m\u001b[0m\u001b[0;34m\u001b[0m\u001b[0m\n\u001b[0m\u001b[1;32m   1482\u001b[0m                 \u001b[0;31m# We don't need to worry about locking here, because we've\u001b[0m\u001b[0;34m\u001b[0m\u001b[0;34m\u001b[0m\u001b[0;34m\u001b[0m\u001b[0m\n\u001b[1;32m   1483\u001b[0m                 \u001b[0;31m# either called loop_forever() when in single threaded mode, or\u001b[0m\u001b[0;34m\u001b[0m\u001b[0;34m\u001b[0m\u001b[0;34m\u001b[0m\u001b[0m\n",
      "\u001b[0;32m~/miniconda3/envs/ite-env/lib/python3.6/site-packages/paho/mqtt/client.py\u001b[0m in \u001b[0;36mloop\u001b[0;34m(self, timeout, max_packets)\u001b[0m\n\u001b[1;32m    986\u001b[0m         \u001b[0mrlist\u001b[0m \u001b[0;34m=\u001b[0m \u001b[0;34m[\u001b[0m\u001b[0mself\u001b[0m\u001b[0;34m.\u001b[0m\u001b[0m_sock\u001b[0m\u001b[0;34m,\u001b[0m \u001b[0mself\u001b[0m\u001b[0;34m.\u001b[0m\u001b[0m_sockpairR\u001b[0m\u001b[0;34m]\u001b[0m\u001b[0;34m\u001b[0m\u001b[0;34m\u001b[0m\u001b[0m\n\u001b[1;32m    987\u001b[0m         \u001b[0;32mtry\u001b[0m\u001b[0;34m:\u001b[0m\u001b[0;34m\u001b[0m\u001b[0;34m\u001b[0m\u001b[0m\n\u001b[0;32m--> 988\u001b[0;31m             \u001b[0msocklist\u001b[0m \u001b[0;34m=\u001b[0m \u001b[0mselect\u001b[0m\u001b[0;34m.\u001b[0m\u001b[0mselect\u001b[0m\u001b[0;34m(\u001b[0m\u001b[0mrlist\u001b[0m\u001b[0;34m,\u001b[0m \u001b[0mwlist\u001b[0m\u001b[0;34m,\u001b[0m \u001b[0;34m[\u001b[0m\u001b[0;34m]\u001b[0m\u001b[0;34m,\u001b[0m \u001b[0mtimeout\u001b[0m\u001b[0;34m)\u001b[0m\u001b[0;34m\u001b[0m\u001b[0;34m\u001b[0m\u001b[0m\n\u001b[0m\u001b[1;32m    989\u001b[0m         \u001b[0;32mexcept\u001b[0m \u001b[0mTypeError\u001b[0m\u001b[0;34m:\u001b[0m\u001b[0;34m\u001b[0m\u001b[0;34m\u001b[0m\u001b[0m\n\u001b[1;32m    990\u001b[0m             \u001b[0;31m# Socket isn't correct type, in likelihood connection is lost\u001b[0m\u001b[0;34m\u001b[0m\u001b[0;34m\u001b[0m\u001b[0;34m\u001b[0m\u001b[0m\n",
      "\u001b[0;31mKeyboardInterrupt\u001b[0m: "
     ]
    }
   ],
   "source": [
    "import paho.mqtt.client as mqtt\n",
    "\n",
    "SERVER = '147.228.124.230'  # RPi\n",
    "TOPIC = 'ite/blue'\n",
    "global message\n",
    "message = 'a'\n",
    "\n",
    "# The callback for when the client receives a CONNACK response from the server.\n",
    "def on_connect(client, userdata, mid, qos):\n",
    "    print('Connected with result code qos:', str(qos))\n",
    "\n",
    "    # Subscribing in on_connect() means that if we lose the connection and\n",
    "    # reconnect then subscriptions will be renewed.\n",
    "    client.subscribe(TOPIC)\n",
    "\n",
    "\n",
    "# The callback for when a PUBLISH message is received from the server.\n",
    "def on_message(client, userdata, msg):\n",
    "    if (msg.payload == 'Q'):\n",
    "        client.disconnect()\n",
    "    global message\n",
    "    message = msg\n",
    "    print(msg.topic, msg.qos, msg.payload)\n",
    "\n",
    "\n",
    "def main():\n",
    "    client = mqtt.Client()\n",
    "    client.on_connect = on_connect\n",
    "    client.on_message = on_message\n",
    "\n",
    "    client.username_pw_set('mqtt_student', password='pivo')\n",
    "\n",
    "    client.connect(SERVER, 1883, 60)\n",
    "\n",
    "    # Blocking call that processes network traffic, dispatches callbacks and\n",
    "    # handles reconnecting.\n",
    "    # Other loop*() functions are available that give a threaded interface and\n",
    "    # a manual interface.\n",
    "    client.loop_forever()\n",
    "\n",
    "\n",
    "if __name__ == '__main__':\n",
    "    main()"
   ]
  },
  {
   "cell_type": "code",
   "execution_count": 9,
   "metadata": {},
   "outputs": [
    {
     "name": "stdout",
     "output_type": "stream",
     "text": [
      "ite/blue\n"
     ]
    }
   ],
   "source": []
  },
  {
   "cell_type": "code",
   "execution_count": 10,
   "metadata": {},
   "outputs": [
    {
     "name": "stdout",
     "output_type": "stream",
     "text": [
      "0\n"
     ]
    }
   ],
   "source": []
  },
  {
   "cell_type": "code",
   "execution_count": 11,
   "metadata": {},
   "outputs": [
    {
     "name": "stdout",
     "output_type": "stream",
     "text": [
      "b'{\"source\": \"fake\", \"team_name\": \"blue\", \"created_on\": \"2020-04-28T20:48:54.850744\", \"temperature\": 22.200536974016668}'\n"
     ]
    }
   ],
   "source": []
  },
  {
   "cell_type": "code",
   "execution_count": 13,
   "metadata": {},
   "outputs": [
    {
     "ename": "TypeError",
     "evalue": "cannot convert dictionary update sequence element #0 to a sequence",
     "output_type": "error",
     "traceback": [
      "\u001b[0;31m---------------------------------------------------------------------------\u001b[0m",
      "\u001b[0;31mTypeError\u001b[0m                                 Traceback (most recent call last)",
      "\u001b[0;32m<ipython-input-13-42c0493fff85>\u001b[0m in \u001b[0;36m<module>\u001b[0;34m\u001b[0m\n\u001b[0;32m----> 1\u001b[0;31m \u001b[0mdic\u001b[0m \u001b[0;34m=\u001b[0m \u001b[0mdict\u001b[0m\u001b[0;34m(\u001b[0m\u001b[0mmessage\u001b[0m\u001b[0;34m.\u001b[0m\u001b[0mpayload\u001b[0m\u001b[0;34m)\u001b[0m\u001b[0;34m\u001b[0m\u001b[0;34m\u001b[0m\u001b[0m\n\u001b[0m",
      "\u001b[0;31mTypeError\u001b[0m: cannot convert dictionary update sequence element #0 to a sequence"
     ]
    }
   ],
   "source": []
  },
  {
   "cell_type": "raw",
   "metadata": {},
   "source": []
  },
  {
   "cell_type": "code",
   "execution_count": 22,
   "metadata": {},
   "outputs": [
    {
     "name": "stdout",
     "output_type": "stream",
     "text": [
      "b'{\"source\": \"fake\", \"team_name\": \"blue\", \"created_on\": \"2020-04-28T20:48:54.850744\", \"temperature\": 22.200536974016668}'\n"
     ]
    }
   ],
   "source": []
  },
  {
   "cell_type": "code",
   "execution_count": 41,
   "metadata": {},
   "outputs": [
    {
     "name": "stdout",
     "output_type": "stream",
     "text": [
      "{\"source\": \"fake\", \"team_name\": \"blue\", \"created_on\": \"2020-04-28T20:48:54.850744\", \"temperature\": 22.200536974016668}\n",
      "<class 'str'>\n",
      "{'source': 'fake', 'team_name': 'blue', 'created_on': '2020-04-28T20:48:54.850744', 'temperature': 22.200536974016668}\n",
      "<class 'dict'>\n",
      "fake\n"
     ]
    }
   ],
   "source": [
    "\n",
    "import ast\n",
    "mes = str(message.payload)\n",
    "a = (mes[2:-1])\n",
    "print(a)\n",
    "print(type(a))\n",
    "adict = ast.literal_eval(a)\n",
    "print(adict)\n",
    "print(type(adict))\n",
    "print(adict['source'])\n",
    "\n"
   ]
  },
  {
   "cell_type": "code",
   "execution_count": null,
   "metadata": {},
   "outputs": [],
   "source": []
  },
  {
   "cell_type": "code",
   "execution_count": 1,
   "metadata": {},
   "outputs": [
    {
     "name": "stdout",
     "output_type": "stream",
     "text": [
      "\n",
      "Login data: {'id': 4, 'username': 'Blue', 'fullName': '?, ?, ?, ?', 'year': 2020, 'role': 'user', 'teamUUID': 'f32c6941-bc2d-41b2-8bb3-cb6082427613'}\n",
      "\n",
      "teamUUID: f32c6941-bc2d-41b2-8bb3-cb6082427613\n",
      "\n",
      "Sensors data: [{'id': 3, 'sensorUUID': 'd384a529-6227-4133-afc9-4f5a16665f1f', 'name': 'sensor3', 'location': 'Masarykovo namesti 1, Plzen', 'minTemperature': 0.0, 'maxTemperature': 25.0}]\n"
     ]
    }
   ],
   "source": [
    "#login\n",
    "import requests\n",
    "from json import dumps as dumps_json, loads as loads_json\n",
    "\n",
    "url_base = 'https://uvb1bb4153.execute-api.eu-central-1.amazonaws.com/Prod'\n",
    "headers_base = {'Content-Type': 'application/json'}\n",
    "\n",
    "# login\n",
    "url_login = url_base+'/login'\n",
    "body_login = {'username': 'Blue', 'password': 'n96{ZYV7'}\n",
    "\n",
    "login_data = loads_json(requests.post(url_login, data=dumps_json(body_login), headers=headers_base).text)\n",
    "print('\\nLogin data:', login_data)\n",
    "\n",
    "teamUUID = login_data['teamUUID']\n",
    "print('\\nteamUUID:', teamUUID)\n",
    "\n",
    "# get sensors\n",
    "url_sensors = url_base+'/sensors'\n",
    "headers_sensors = dict(headers_base)\n",
    "headers_sensors.update({'teamUUID': teamUUID})\n",
    "\n",
    "sensors_data = requests.get(url_sensors, headers=headers_sensors)\n",
    "print('\\nSensors data:', loads_json(sensors_data.text))"
   ]
  },
  {
   "cell_type": "code",
   "execution_count": null,
   "metadata": {},
   "outputs": [],
   "source": [
    "{\n",
    "\t\t\"createdOn\": \"2019-04-20T13:00:00.000+01:00\",\n",
    "\t\t\"sensorUUID\": \"10e65623-a843-488c-8beb-1beef2a7acca\",\n",
    "\t\t\"temperature\": \"32.7\",\n",
    "\t\t\"status\": \"TEST\"\n",
    "\t}"
   ]
  },
  {
   "cell_type": "code",
   "execution_count": 4,
   "metadata": {},
   "outputs": [
    {
     "name": "stdout",
     "output_type": "stream",
     "text": [
      "source': 'fake', 'team_name': 'blue', 'created_on': '2020-04-28T20:48:54.850744', 'temperature': 22.200536974016668\n",
      "<class 'str'>\n"
     ]
    },
    {
     "ename": "SyntaxError",
     "evalue": "invalid syntax (<unknown>, line 1)",
     "output_type": "error",
     "traceback": [
      "Traceback \u001b[0;36m(most recent call last)\u001b[0m:\n",
      "  File \u001b[1;32m\"/home/ja/miniconda3/envs/ite-env/lib/python3.6/site-packages/IPython/core/interactiveshell.py\"\u001b[0m, line \u001b[1;32m3331\u001b[0m, in \u001b[1;35mrun_code\u001b[0m\n    exec(code_obj, self.user_global_ns, self.user_ns)\n",
      "  File \u001b[1;32m\"<ipython-input-4-1765899a68cb>\"\u001b[0m, line \u001b[1;32m12\u001b[0m, in \u001b[1;35m<module>\u001b[0m\n    adict = ast.literal_eval(a)\n",
      "  File \u001b[1;32m\"/home/ja/miniconda3/envs/ite-env/lib/python3.6/ast.py\"\u001b[0m, line \u001b[1;32m48\u001b[0m, in \u001b[1;35mliteral_eval\u001b[0m\n    node_or_string = parse(node_or_string, mode='eval')\n",
      "\u001b[0;36m  File \u001b[0;32m\"/home/ja/miniconda3/envs/ite-env/lib/python3.6/ast.py\"\u001b[0;36m, line \u001b[0;32m35\u001b[0;36m, in \u001b[0;35mparse\u001b[0;36m\u001b[0m\n\u001b[0;31m    return compile(source, filename, mode, PyCF_ONLY_AST)\u001b[0m\n",
      "\u001b[0;36m  File \u001b[0;32m\"<unknown>\"\u001b[0;36m, line \u001b[0;32m1\u001b[0m\n\u001b[0;31m    source': 'fake', 'team_name': 'blue', 'created_on': '2020-04-28T20:48:54.850744', 'temperature': 22.200536974016668\u001b[0m\n\u001b[0m             ^\u001b[0m\n\u001b[0;31mSyntaxError\u001b[0m\u001b[0;31m:\u001b[0m invalid syntax\n"
     ]
    }
   ],
   "source": [
    "#store measurements\n",
    "import requests\n",
    "from json import dumps as dumps_json, loads as loads_json\n",
    "from datetime import datetime\n",
    "import ast\n",
    "\n",
    "\n",
    "mes = \"{'source': 'fake', 'team_name': 'blue', 'created_on': '2020-04-28T20:48:54.850744', 'temperature': 22.200536974016668}\"\n",
    "a = (mes[2:-1])\n",
    "print(a)\n",
    "print(type(a))\n",
    "adict = ast.literal_eval(a)\n",
    "print(adict)\n",
    "print(type(adict))\n",
    "print(adict['source'])\n",
    "\n",
    "teamUUID = 'f32c6941-bc2d-41b2-8bb3-cb6082427613' #blue\n",
    "sensorUUIDblue = 'd384a529-6227-4133-afc9-4f5a16665f1f'\n",
    "id = 0\n",
    "#now = datetime.now()\n",
    "tms = datetime.strptime(adict['created_on'], '%Y-%m-%dT%H:%M:%S.%f')\n",
    "time = tms.strftime(\"%Y-%m-%d\") + 'T'+ tms.strftime(\"%H:%M:%S.\") + str(int(tms.strftime(\"%f\"))//1000) + '+' + '01:00'\n",
    "\n",
    "url_base = 'https://uvb1bb4153.execute-api.eu-central-1.amazonaws.com/Prod'\n",
    "url_measurement = url_base+'/measurements'\n",
    "headers_base = {'Content-Type': 'application/json', 'teamUUID': teamUUID }\n",
    "\n",
    "\n",
    "\n",
    "#body_measurement = {'id': id, 'createdOn': adict['created_on'], 'sensorUUID': sensorUUIDblue, 'temperature': adict['temperature'], 'status': adict['source'], 'modifiedOn': str(now), 'timestamp': now.timestamp()}\n",
    "body_measurement = {'createdOn': time, 'sensorUUID': sensorUUIDblue, 'temperature': str(round(adict['temperature'],1)), 'status': 'TEST'}\n",
    "\n",
    "F = requests.post(url_measurement, data=dumps_json(body_measurement), headers=headers_base)\n",
    "\n",
    " \n",
    "\n",
    "'''\n",
    "# get sensors\n",
    "url_sensors = url_base+'/sensors'\n",
    "headers_sensors = dict(headers_base)\n",
    "headers_sensors.update({'teamUUID': teamUUID})\n",
    "\n",
    "sensors_data = requests.get(url_sensors, headers=headers_sensors)\n",
    "print('\\nSensors data:', loads_json(sensors_data.text))\n",
    "'''"
   ]
  },
  {
   "cell_type": "code",
   "execution_count": 53,
   "metadata": {},
   "outputs": [
    {
     "name": "stdout",
     "output_type": "stream",
     "text": [
      "{'id': 0, 'createdOn': '2020-04-28T20:48:54.850744', 'sensorUUID': 'd384a529-6227-4133-afc9-4f5a16665f1f', 'temperature': 22.200536974016668, 'status': 'fake', 'modifiedOn': '2020-04-28 21:16:35.132589', 'timestamp': 1588101395.132589}\n"
     ]
    }
   ],
   "source": [
    "print((loads_json(dumps_json(body_measurement))))"
   ]
  },
  {
   "cell_type": "code",
   "execution_count": 114,
   "metadata": {},
   "outputs": [
    {
     "name": "stdout",
     "output_type": "stream",
     "text": [
      "https://uvb1bb4153.execute-api.eu-central-1.amazonaws.com/Prod/measurements\n",
      "{'Content-Type': 'application/json', 'teamUUID': 'f32c6941-bc2d-41b2-8bb3-cb6082427613'}\n",
      "{'createdOn': '2020-04-28T20:48:54.850+01:00', 'sensorUUID': 'd384a529-6227-4133-afc9-4f5a16665f1f', 'temperature': '22.2', 'status': 'fake'}\n"
     ]
    }
   ],
   "source": [
    "print(url_measurement)\n",
    "print(headers_base)\n",
    "print(body_measurement)"
   ]
  },
  {
   "cell_type": "code",
   "execution_count": 116,
   "metadata": {},
   "outputs": [
    {
     "name": "stdout",
     "output_type": "stream",
     "text": [
      "<Response [200]>\n"
     ]
    }
   ],
   "source": [
    "print(F)"
   ]
  },
  {
   "cell_type": "code",
   "execution_count": null,
   "metadata": {},
   "outputs": [],
   "source": [
    "2019-04-20T13:00:00.000+01:00"
   ]
  },
  {
   "cell_type": "code",
   "execution_count": 105,
   "metadata": {},
   "outputs": [
    {
     "name": "stdout",
     "output_type": "stream",
     "text": [
      "2020-04-28 20:48:54.850744\n"
     ]
    }
   ],
   "source": [
    "tms = datetime.strptime(adict['created_on'], '%Y-%m-%dT%H:%M:%S.%f')\n",
    "print(tms)"
   ]
  },
  {
   "cell_type": "code",
   "execution_count": 100,
   "metadata": {},
   "outputs": [],
   "source": [
    "time = now.strftime(\"%Y-%m-%d\") + 'T'+ now.strftime(\"%H:%M:%S.\") + str(int(now.strftime(\"%f\"))//1000) + '+' + '01:00'"
   ]
  }
 ],
 "metadata": {
  "kernelspec": {
   "display_name": "ite-env",
   "language": "python",
   "name": "ite-env"
  },
  "language_info": {
   "codemirror_mode": {
    "name": "ipython",
    "version": 3
   },
   "file_extension": ".py",
   "mimetype": "text/x-python",
   "name": "python",
   "nbconvert_exporter": "python",
   "pygments_lexer": "ipython3",
   "version": "3.6.10"
  }
 },
 "nbformat": 4,
 "nbformat_minor": 4
}
